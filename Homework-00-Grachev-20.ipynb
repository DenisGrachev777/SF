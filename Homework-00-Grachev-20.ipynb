{
 "cells": [
  {
   "cell_type": "code",
   "execution_count": 29,
   "metadata": {},
   "outputs": [],
   "source": [
    "import numpy as np\n",
    "'''Ищем элемент путем бинарного поиска загаданного элемента'''\n",
    "def game_core_v3(number):\n",
    "    digit_list = [count for count in range (1, 100)] #загадываться число будет втнури списк от 1 до 100\n",
    "    start_list = digit_list[0]                       #задаем начало списка, одновременно это самый маленький элемент списка\n",
    "    end_list = len(digit_list)                       #задаем конец списка, одновременно это цифра самого большого элемента списка\n",
    "    count = 0                                        #вводим и обозначаем элемент для опредления колличества попыток\n",
    "    while start_list <= end_list:                    #наше условия, которое будет выполняться до тех пор, пока два элемента не станут равны\n",
    "        count+=1                                     #каждую попытку суммируем для выведения общего кол-ва попыток\n",
    "        mid = (start_list+end_list)//2               # чтобы сократить списко выборки, важно найти средний элемент списка\n",
    "        if mid > number:                             #если загаданное число меньше определнного выше среднего значения списка,то\n",
    "            end_list = mid-1                         #,то определяем новый последний элемент списка как среднее значение опредленное до этого и -1 элмент от него\n",
    "        elif mid < number:                           # если же загаданное число больше опредленной середины списка, то\n",
    "            start_list = mid+1                       #,то серединой станет цифра смещенная вправо на + 1 от текущей цифры опредленонй как середина списка\n",
    "        else:                                        # как только ни одно из условий выше не будет выполнено, значит мы решили задачу и нашли нужное нам число\n",
    "            break                                    # цикл необходимо закончить\n",
    "    return(count)                                    #возвращаем цифру опредлеющую кол-во попыток для поиска загаданного числа\n",
    "\n",
    "\n",
    "def score_game(game_core_v3):\n",
    "    '''Запускаем игру 1000 раз, чтобы узнать, как быстро игра угадывает число'''\n",
    "    count_ls = []\n",
    "    np.random.seed(1)                                # фиксируем RANDOM SEED, чтобы ваш эксперимент был воспроизводим!\n",
    "    random_array = np.random.randint(1,101, size=(1000))\n",
    "    for number in random_array:\n",
    "        count_ls.append(game_core_v3(number))\n",
    "    score = int(np.mean(count_ls))\n",
    "    print(f\"Ваш алгоритм угадывает число в среднем за {score} попыток\")\n",
    "    return(score)\n"
   ]
  },
  {
   "cell_type": "code",
   "execution_count": 30,
   "metadata": {},
   "outputs": [
    {
     "name": "stdout",
     "output_type": "stream",
     "text": [
      "Ваш алгоритм угадывает число в среднем за 5 попыток\n"
     ]
    },
    {
     "data": {
      "text/plain": [
       "5"
      ]
     },
     "execution_count": 30,
     "metadata": {},
     "output_type": "execute_result"
    }
   ],
   "source": [
    "score_game(game_core_v3)"
   ]
  },
  {
   "cell_type": "code",
   "execution_count": null,
   "metadata": {},
   "outputs": [],
   "source": []
  }
 ],
 "metadata": {
  "kernelspec": {
   "display_name": "Python 3",
   "language": "python",
   "name": "python3"
  },
  "language_info": {
   "codemirror_mode": {
    "name": "ipython",
    "version": 3
   },
   "file_extension": ".py",
   "mimetype": "text/x-python",
   "name": "python",
   "nbconvert_exporter": "python",
   "pygments_lexer": "ipython3",
   "version": "3.7.6"
  }
 },
 "nbformat": 4,
 "nbformat_minor": 4
}
